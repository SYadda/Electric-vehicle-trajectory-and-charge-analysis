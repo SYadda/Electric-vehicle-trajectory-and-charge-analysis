{
 "cells": [
  {
   "cell_type": "code",
   "execution_count": null,
   "metadata": {
    "collapsed": false
   },
   "outputs": [],
   "source": [
    "import math\n",
    "\n",
    "import pandas\n",
    "import pandas as pd\n",
    "import transbigdata as tbd\n",
    "import datetime\n",
    "import json\n",
    "import os"
   ]
  },
  {
   "cell_type": "code",
   "execution_count": null,
   "metadata": {
    "collapsed": true
   },
   "outputs": [],
   "source": [
    "pd.set_option('display.max_columns', 1000)\n",
    "pd.set_option('display.min_rows', 50)\n",
    "pd.set_option('expand_frame_repr', False)\n",
    "\n",
    "for file in os.listdir('新数据'):\n",
    "    origin = pd.read_csv('新数据/' + file, names=['car_id', 'time', 'car_state', 'charged_state', 'run_model', 'speed', 'sum_km', 'sum_V', 'sum_A', 'SOC', 'DC-DC', 'gear', 'kOhm', 'lon', 'lat', 'max_V', 'min_V', 'max_temp', 'min_temp', 'motor_seq', 'motor_speed', 'motor_tor'])\n",
    "    break\n",
    "\n",
    "# origin = pd.read_csv('04.csv')\n",
    "# origin.columns = ['id', 'car_id', 'time', 'car_state', 'charged_state', 'run_model', 'speed', 'sum_km', 'sum_V', 'sum_A', 'SOC', 'DC-DC', 'gear', 'kOhm', 'lon', 'lat', 'max_V', 'min_V', 'max_temp', 'min_temp', 'motor_seq', 'motor_speed', 'motor_tor']\n",
    "# del origin['id']\n",
    "\n",
    "origin"
   ]
  },
  {
   "cell_type": "code",
   "execution_count": null,
   "metadata": {
    "collapsed": false
   },
   "outputs": [],
   "source": [
    "# 数据清洗\n",
    "data = origin.drop(columns = ['car_state', 'run_model', 'DC-DC', 'gear', 'kOhm', 'speed', 'sum_km', 'sum_V', 'sum_A', 'max_V', 'min_V', 'max_temp', 'min_temp', 'motor_seq', 'motor_speed', 'motor_tor'], axis=1)\n",
    "\n",
    "# 剔除范围外数据\n",
    "data = data[data['lon'] > 120]\n",
    "data = data[data['lon'] < 123]\n",
    "data = data[data['lat'] > 30]\n",
    "data = data[data['lat'] < 32]\n",
    "\n",
    "data['SOC_last'] = data['SOC'].shift()\n",
    "data = data[data['SOC'] - data['SOC_last'] < 2]\n",
    "data = data[data['SOC'] - data['SOC_last'] > -2]\n",
    "del data['SOC_last']\n",
    "\n",
    "# data['charged_state'] = data['charged_state'].apply(lambda _: 3 if _ == 2 else _)\n",
    "\n",
    "# car_id 设为简单的1，2，3……\n",
    "data['car_id_next'] = data['car_id'].shift()\n",
    "data['car_id_alter'] = data.apply(lambda _: _['car_id'] != _['car_id_next'], axis=1)\n",
    "data['_'] = data['car_id_alter'].cumsum()\n",
    "data.drop(['car_id', 'car_id_next', 'car_id_alter'], axis=1, inplace=True)\n",
    "data.rename(columns={'_': 'car_id'}, inplace=True)\n",
    "\n",
    "# 时间str转datetime\n",
    "data['time'] = data['time'].apply(lambda _: datetime.datetime.strptime(_, '%Y-%m-%d %H:%M:%S'))\n",
    "\n",
    "data"
   ]
  },
  {
   "cell_type": "code",
   "execution_count": null,
   "metadata": {
    "collapsed": false
   },
   "outputs": [],
   "source": [
    "# 计算 poschange 和 posid\n",
    "\n",
    "data['lon_last'] = data['lon'].shift()\n",
    "data['lat_last'] = data['lat'].shift()\n",
    "\n",
    "data['poschange'] = data.apply(lambda _: int(_['lon'] == _['lon_last'] and _['lat'] == _['lat_last']), axis=1)\n",
    "data['pcs'] = data['poschange'].shift(-1)\n",
    "data['abs'] = data.apply(lambda _: abs(_['pcs'] - _['poschange']), axis=1)\n",
    "data['posid'] = data.groupby(['car_id'])['abs'].cumsum()\n",
    "data.drop(['lon_last', 'lat_last', 'pcs', 'abs'], axis=1, inplace=True)\n",
    "data.dropna(inplace=True)\n",
    "data"
   ]
  },
  {
   "cell_type": "code",
   "execution_count": null,
   "metadata": {
    "collapsed": false
   },
   "outputs": [],
   "source": [
    "# group by\n",
    "\n",
    "def count_dis_by_tbd(df):\n",
    "    df['lon_last'] = df['lon'].shift()\n",
    "    df['lat_last'] = df['lat'].shift()\n",
    "    df.dropna(inplace=True)\n",
    "    return int(sum([tbd.getdistance(__['lon'], __['lat'], __['lon_last'], __['lat_last']) for __ in df.iloc]))\n",
    "\n",
    "gb = data.groupby(['car_id', 'posid'])\n",
    "data2 = pd.concat([gb['time'].apply(lambda _: _.iloc[0]), gb['time'].apply(lambda _: _.iloc[-1]),\n",
    "                   gb['SOC'].apply(lambda _: _.iloc[0]),  gb['SOC'].apply(lambda _: _.iloc[-1]),\n",
    "                   gb['lon'].apply(lambda _: _.iloc[0]),  gb['lat'].apply(lambda _: _.iloc[0]),\n",
    "                   gb['lon'].apply(lambda _: _.iloc[-1]), gb['lat'].apply(lambda _: _.iloc[-1]), gb.apply(count_dis_by_tbd)], axis=1)\n",
    "data2.columns = ['time_start', 'time_end', 'SOC_start', 'SOC_end', 'lon_start', 'lat_start', 'lon_end', 'lat_end', 'dis_sum']\n",
    "data2.reset_index(inplace=True)\n",
    "data2"
   ]
  },
  {
   "cell_type": "code",
   "execution_count": null,
   "metadata": {
    "collapsed": false
   },
   "outputs": [],
   "source": [
    "# drop_duplicates\n",
    "\n",
    "data3 = data.drop_duplicates(subset=['car_id', 'posid'])\n",
    "data3 = data3.drop(['time', 'SOC', 'lon', 'lat'], axis=1)\n",
    "data3"
   ]
  },
  {
   "cell_type": "code",
   "execution_count": null,
   "metadata": {
    "collapsed": false
   },
   "outputs": [],
   "source": [
    "# merge\n",
    "\n",
    "data4 = pd.merge(left=data2, right=data3)\n",
    "data4"
   ]
  },
  {
   "cell_type": "code",
   "execution_count": null,
   "metadata": {
    "collapsed": false
   },
   "outputs": [],
   "source": [
    "min30 = pd.Timedelta(minutes=30)\n",
    "data666 = data4.copy()\n",
    "data666['new_poschange'] = data666.apply(lambda _: 0 if _['time_end'] - _['time_start'] < min30 else 1 - _['poschange'], axis=1)\n",
    "data666.rename(columns={'time_start' : 'time'}, inplace=True)\n",
    "data666.drop(['poschange', 'posid', 'SOC_start', 'SOC_end', 'lon_start', 'lat_start', 'lon_end', 'lat_end', 'charged_state', 'dis_sum'], axis=1, inplace=True)\n",
    "data666"
   ]
  },
  {
   "cell_type": "code",
   "execution_count": null,
   "metadata": {
    "collapsed": false
   },
   "outputs": [],
   "source": [
    "data777 = pd.merge(data, data666, on=['car_id', 'time'], how='outer')\n",
    "data777"
   ]
  },
  {
   "cell_type": "code",
   "execution_count": null,
   "metadata": {
    "collapsed": false
   },
   "outputs": [],
   "source": [
    "last_new_poschange = data777['new_poschange'][0]\n",
    "last_time_end = data777['time_end'][0]\n",
    "# min1 = pd.Timedelta(minutes=1)\n",
    "\n",
    "def update(time, poschange, new_poschange, time_end):\n",
    "    global last_new_poschange\n",
    "    global last_time_end\n",
    "    if not math.isnan(new_poschange):\n",
    "        last_new_poschange = new_poschange\n",
    "        last_time_end = time_end # + min1\n",
    "        return new_poschange\n",
    "    elif time <= last_time_end:\n",
    "        return last_new_poschange\n",
    "    else:\n",
    "        return poschange\n",
    "\n",
    "data888 = data777.copy()\n",
    "\n",
    "data888['SOC_last'] = data888['SOC'].shift()\n",
    "data888['SOC_increase'] = data888.apply(lambda _: int(_['SOC'] > _['SOC_last']), axis=1)\n",
    "\n",
    "# data888['poschange'] = data888.apply(lambda _: _['new_poschange'] if not math.isnan(_['new_poschange']) else _['poschange'], axis=1)\n",
    "data888['poschange'] = data888.apply(lambda _: update(_['time'], _['poschange'], _['new_poschange'], _['time_end']), axis=1)\n",
    "data888['pcs'] = data888['poschange'].shift(-1)\n",
    "data888['abs'] = data888.apply(lambda _: abs(_['pcs'] - _['poschange']), axis=1).shift()\n",
    "data888['posid'] = data888.groupby(['car_id'])['abs'].cumsum()\n",
    "# data888['posid'][0] = 0\n",
    "data888.drop(['pcs', 'abs'], axis=1, inplace=True)\n",
    "data888"
   ]
  },
  {
   "cell_type": "code",
   "execution_count": null,
   "metadata": {
    "collapsed": false
   },
   "outputs": [],
   "source": [
    "def count_dis_by_tbdd(df):\n",
    "    df['lon_last'] = df['lon'].shift()\n",
    "    df['lat_last'] = df['lat'].shift()\n",
    "    df.dropna(subset=['lon', 'lat', 'lon_last', 'lat_last'], inplace=True)\n",
    "    return int(sum([tbd.getdistance(__['lon'], __['lat'], __['lon_last'], __['lat_last']) for __ in df.iloc]))\n",
    "\n",
    "def charge_start_and_end(df):\n",
    "    _ = df.loc[df.SOC_increase == 1, 'time']\n",
    "    return None if _.empty else (_.iat[0], _.iat[-1])\n",
    "\n",
    "gb = data888.groupby(['car_id', 'posid'])\n",
    "data22 = pd.concat([gb['time'].apply(lambda _: _.iloc[0]), gb['time'].apply(lambda _: _.iloc[-1]),\n",
    "                   gb['SOC'].apply(lambda _: _.iloc[0]),  gb['SOC'].apply(lambda _: _.iloc[-1]),\n",
    "                   gb['lon'].apply(lambda _: _.iloc[0]),  gb['lat'].apply(lambda _: _.iloc[0]),\n",
    "                   gb['lon'].apply(lambda _: _.iloc[-1]), gb['lat'].apply(lambda _: _.iloc[-1]), gb.apply(count_dis_by_tbdd), gb.apply(charge_start_and_end)], axis=1)\n",
    "data22.columns = ['time_start', 'time_end', 'SOC_start', 'SOC_end', 'lon_start', 'lat_start', 'lon_end', 'lat_end', 'dis_sum', 'charge_start_and_end']\n",
    "data22['charge_start_and_end'] = data22.apply(lambda _: _['charge_start_and_end'] if _['dis_sum'] == 0 else None, axis=1)\n",
    "data22.reset_index(inplace=True)\n",
    "data22"
   ]
  },
  {
   "cell_type": "code",
   "execution_count": null,
   "metadata": {
    "collapsed": false
   },
   "outputs": [],
   "source": [
    "data33 = data888.drop(columns=['time_end', 'new_poschange', 'time', 'SOC', 'SOC_last', 'lon', 'lat', 'SOC_increase'])\n",
    "data33 = data33.drop_duplicates(subset=['car_id', 'posid']).dropna()\n",
    "data33"
   ]
  },
  {
   "cell_type": "code",
   "execution_count": null,
   "metadata": {
    "collapsed": false
   },
   "outputs": [],
   "source": [
    "data44 = pd.merge(left=data22, right=data33)\n",
    "data44"
   ]
  },
  {
   "cell_type": "code",
   "execution_count": null,
   "metadata": {
    "collapsed": false
   },
   "outputs": [],
   "source": [
    "# 计算 time_duration\n",
    "\n",
    "def count_time_duration(_):\n",
    "    total_sec = (_['time_end'] - _['time_start']).total_seconds()\n",
    "    return total_sec // 3600, (total_sec % 3600) // 60, total_sec % 60\n",
    "\n",
    "data5 = data44.copy()\n",
    "data5['time_duration_h_m_s'] = data5.apply(count_time_duration, axis=1)\n",
    "data5"
   ]
  },
  {
   "cell_type": "code",
   "execution_count": null,
   "metadata": {
    "collapsed": false
   },
   "outputs": [],
   "source": [
    "# charge_state： 1充电； 3不充电"
   ]
  },
  {
   "cell_type": "code",
   "execution_count": null,
   "metadata": {
    "collapsed": false
   },
   "outputs": [],
   "source": [
    "os.makedirs('./data_csv/', exist_ok=True)\n",
    "os.makedirs('./data_json', exist_ok=True)"
   ]
  },
  {
   "cell_type": "code",
   "execution_count": null,
   "metadata": {
    "collapsed": false
   },
   "outputs": [],
   "source": [
    "run = data5[data5['dis_sum'] != 0]\n",
    "run.reset_index(inplace=True)\n",
    "del run['charged_state']\n",
    "del run['poschange']\n",
    "del run['index']\n",
    "run.to_csv('./data_csv/data_run.csv')\n",
    "tbd.dumpjson(run.to_json(orient=\"records\"), './data_json/data_run.json')\n",
    "run"
   ]
  },
  {
   "cell_type": "code",
   "execution_count": null,
   "metadata": {
    "collapsed": false
   },
   "outputs": [],
   "source": [
    "stop = data5[data5['dis_sum'] == 0].copy()\n",
    "stop.reset_index(inplace=True)\n",
    "stop.drop(columns = ['poschange', 'dis_sum', 'index', 'lon_end', 'lat_end', 'charged_state'], axis=1, inplace=True)\n",
    "stop.rename(columns={'lon_start':'lon','lat_start':'lat'}, inplace=True)\n",
    "stop.to_csv('./data_csv/data_stop.csv')\n",
    "tbd.dumpjson(stop.to_json(orient=\"records\"), './data_json/data_stop.json')\n",
    "stop"
   ]
  },
  {
   "cell_type": "code",
   "execution_count": null,
   "metadata": {
    "collapsed": false
   },
   "outputs": [],
   "source": [
    "def count_charge_duration(_):\n",
    "    total_sec = (_['time_end_charge'] - _['time_start_charge']).total_seconds()\n",
    "    return total_sec // 3600, (total_sec % 3600) // 60, total_sec % 60\n",
    "\n",
    "\n",
    "charged = stop[stop['SOC_start'] < stop['SOC_end']].copy()\n",
    "charged[['time_start_charge', 'time_end_charge']] = charged['charge_start_and_end'].apply(pd.Series)\n",
    "del charged['charge_start_and_end']\n",
    "charged['charge_duration_h_m_s'] = charged.apply(count_charge_duration, axis=1)\n",
    "charged.to_csv('./data_csv/data_charged.csv')\n",
    "tbd.dumpjson(charged.to_json(orient=\"records\"), './data_json/data_charged.json')\n",
    "charged"
   ]
  },
  {
   "cell_type": "code",
   "execution_count": null,
   "metadata": {
    "collapsed": false
   },
   "outputs": [],
   "source": [
    "stop_xy = stop[['lon', 'lat']].copy()\n",
    "stop_xy.plot.scatter('lon', 'lat')"
   ]
  },
  {
   "cell_type": "code",
   "execution_count": null,
   "metadata": {
    "collapsed": false
   },
   "outputs": [],
   "source": [
    "charged_xy = charged[['lon', 'lat']].copy()\n",
    "charged_xy.plot.scatter('lon', 'lat')"
   ]
  },
  {
   "cell_type": "code",
   "execution_count": null,
   "metadata": {
    "collapsed": false
   },
   "outputs": [],
   "source": [
    "chag_rate = charged.drop(columns = ['car_id', 'posid', 'time_start', 'time_end', 'time_duration_h_m_s'], axis=1).copy()\n",
    "chag_rate['start_h'] = chag_rate['time_start_charge'].apply(lambda _: _.hour)\n",
    "chag_rate['start_m'] = chag_rate['time_start_charge'].apply(lambda _: _.minute)\n",
    "chag_rate['end_h'] = chag_rate['time_end_charge'].apply(lambda _: _.hour)\n",
    "chag_rate['end_m'] = chag_rate['time_end_charge'].apply(lambda _: _.minute)\n",
    "chag_rate['charge_rate'] = chag_rate.apply(lambda _: (_.SOC_end - _.SOC_start) / (_.charge_duration_h_m_s[0] + _.charge_duration_h_m_s[1] / 60), axis=1)\n",
    "# charge_rate: SOC per hour 假设所有车辆电池大小相同，以后可引入电池大小数据\n",
    "chag_rate"
   ]
  },
  {
   "cell_type": "code",
   "execution_count": null,
   "metadata": {
    "collapsed": false
   },
   "outputs": [],
   "source": [
    "# c1 = chag_rate[chag_rate['start_h'] > chag_rate['end_h']].copy()\n",
    "# c2 = chag_rate[chag_rate['start_h'] <= chag_rate['end_h']].copy()\n",
    "# c1['end_h'] += 24\n",
    "# chag_rate = pd.concat([c1, c2], axis=0)\n",
    "\n",
    "\n",
    "\n",
    "# statistics_charged_by_hour = [0] * 24\n",
    "# for i in range(len(chag_rate)): # 对小时循环\n",
    "#     _ = chag_rate.iloc[i]\n",
    "#     _cr = _.charge_rate\n",
    "#     statistics_charged_by_hour[_.start_h] += (60 - _.start_m) * _cr\n",
    "#     statistics_charged_by_hour[_.start_h+1:_.end_h+1] = [_ + 60 * _cr for _ in statistics_charged_by_hour[_.start_h+1:_.end_h+1]]\n",
    "#     statistics_charged_by_hour[_.end_h] += _.end_m * _cr\n",
    "#\n",
    "# statistics_charged_by_hour = [_ / 60 for _ in statistics_charged_by_hour]\n",
    "# for _ in range(24):\n",
    "#     print(\"\".join([str(_), \"点到\", str(_+1), \"点，充入电量百分比为：\\t\"]), statistics_charged_by_hour[_])\n",
    "\n",
    "\n",
    "\n",
    "# scbh2 = [0] * 24\n",
    "# for i in range(24):\n",
    "\n",
    "# chag_rate[chag_rate['start_h'] < 20 & chag_rate['end_h'] > 21]\n",
    "# chag_rate[chag_rate['start_h'] > 20]['charge_rate'].sum()\n",
    "\n",
    "# chag_rate.apply(lambda _: _['start_h'] < 24 < _['end_h'], axis=1)"
   ]
  },
  {
   "cell_type": "code",
   "execution_count": null,
   "metadata": {
    "collapsed": false
   },
   "outputs": [],
   "source": [
    "stop_not_charged = stop[stop['SOC_start'] >= stop['SOC_end']]\n",
    "del stop_not_charged['charge_start_and_end']\n",
    "stop_not_charged"
   ]
  },
  {
   "cell_type": "code",
   "execution_count": null,
   "metadata": {
    "collapsed": false
   },
   "outputs": [],
   "source": [
    "stop_over_1h_not_charged = stop_not_charged[stop_not_charged['time_duration_h_m_s'].apply(lambda _: _[0] > 0)]\n",
    "stop_over_1h_not_charged"
   ]
  },
  {
   "cell_type": "code",
   "execution_count": null,
   "metadata": {
    "collapsed": false
   },
   "outputs": [],
   "source": [
    "stop_over_1h___not_charged___SOC_less_than_40 = stop_over_1h_not_charged[stop_over_1h_not_charged['SOC_start'] < 40]\n",
    "stop_over_1h___not_charged___SOC_less_than_40.to_csv('./data_csv/data_potential_charging_requirements.csv')\n",
    "tbd.dumpjson(stop_over_1h___not_charged___SOC_less_than_40.to_json(orient=\"records\"), './data_json/data_potential_charging_requirements.json')\n",
    "stop_over_1h___not_charged___SOC_less_than_40"
   ]
  }
 ],
 "metadata": {
  "kernelspec": {
   "display_name": "base",
   "language": "python",
   "name": "python3"
  },
  "language_info": {
   "codemirror_mode": {
    "name": "ipython",
    "version": 2
   },
   "file_extension": ".py",
   "mimetype": "text/x-python",
   "name": "python",
   "nbconvert_exporter": "python",
   "pygments_lexer": "ipython2",
   "version": "3.9.12"
  },
  "vscode": {
   "interpreter": {
    "hash": "e4cce46d6be9934fbd27f9ca0432556941ea5bdf741d4f4d64c6cd7f8dfa8fba"
   }
  }
 },
 "nbformat": 4,
 "nbformat_minor": 0
}
