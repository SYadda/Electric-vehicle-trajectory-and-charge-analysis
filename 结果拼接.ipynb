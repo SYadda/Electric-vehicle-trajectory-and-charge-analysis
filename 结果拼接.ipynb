{
 "cells": [
  {
   "cell_type": "code",
   "execution_count": 1,
   "metadata": {
    "collapsed": true
   },
   "outputs": [],
   "source": [
    "import math\n",
    "import pandas as pd\n",
    "import transbigdata as tbd\n",
    "import datetime\n",
    "import json\n",
    "import os"
   ]
  },
  {
   "cell_type": "code",
   "execution_count": 31,
   "outputs": [],
   "source": [
    "os.makedirs('./新数据_整合结果', exist_ok=True)\n",
    "\n",
    "for i in os.listdir('data_csv'):\n",
    "    all = pd.DataFrame()\n",
    "    for j in os.listdir('data_csv/' + i):\n",
    "        data = pd.read_csv('data_csv/' + i +'/' + j)\n",
    "        data.rename( columns={'Unnamed: 0':'table_id'}, inplace=True)\n",
    "        data['table_id'] = int(j[0], 16)\n",
    "        all = pd.concat([all, data], axis=0)\n",
    "    # all['new_car_id'] = all['table_id'] * 1000 + all['car_id']\n",
    "    # all['car_id'] = all['new_car_id'].rank(method='dense',ascending=True)\n",
    "    # del all['new_car_id']\n",
    "    all['car_id'] = all['table_id'] * 1000 + all['car_id']\n",
    "    del all['table_id']\n",
    "    all.reset_index(inplace=True, drop=True)\n",
    "    all.to_csv('./新数据_整合结果/' + i + '.csv')\n",
    "    tbd.dumpjson(all.to_json(orient=\"records\"), './新数据_整合结果/' + i + '.json')"
   ],
   "metadata": {
    "collapsed": false
   }
  },
  {
   "cell_type": "code",
   "execution_count": null,
   "outputs": [],
   "source": [],
   "metadata": {
    "collapsed": false
   }
  }
 ],
 "metadata": {
  "kernelspec": {
   "display_name": "Python 3",
   "language": "python",
   "name": "python3"
  },
  "language_info": {
   "codemirror_mode": {
    "name": "ipython",
    "version": 2
   },
   "file_extension": ".py",
   "mimetype": "text/x-python",
   "name": "python",
   "nbconvert_exporter": "python",
   "pygments_lexer": "ipython2",
   "version": "2.7.6"
  }
 },
 "nbformat": 4,
 "nbformat_minor": 0
}
